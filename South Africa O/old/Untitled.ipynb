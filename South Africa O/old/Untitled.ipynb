{
 "cells": [
  {
   "cell_type": "code",
   "execution_count": 27,
   "metadata": {},
   "outputs": [],
   "source": [
    "from PIL import Image\n",
    "import numpy as np"
   ]
  },
  {
   "cell_type": "code",
   "execution_count": 44,
   "metadata": {},
   "outputs": [
    {
     "name": "stdout",
     "output_type": "stream",
     "text": [
      "(3600, 1200, 4)\n",
      "(400, 1200, 4)\n",
      "(400, 1200, 4)\n",
      "(400, 1200, 4)\n",
      "(400, 1200, 4)\n",
      "(400, 1200, 4)\n",
      "(400, 1200, 4)\n",
      "(400, 1200, 4)\n",
      "(400, 1200, 4)\n",
      "(400, 1200, 4)\n",
      "(3600, 1200, 4)\n",
      "(400, 1200, 4)\n",
      "(400, 1200, 4)\n",
      "(400, 1200, 4)\n",
      "(400, 1200, 4)\n",
      "(400, 1200, 4)\n",
      "(400, 1200, 4)\n",
      "(400, 1200, 4)\n",
      "(400, 1200, 4)\n",
      "(400, 1200, 4)\n"
     ]
    }
   ],
   "source": [
    "imageFileNames = [\"admiss.png\", \"deaths.png\"]\n",
    "\n",
    "admissDiscard = (55, 42, 120)\n",
    "admissKeep = (42, 131, 255)\n",
    "deathsDiscard = (122, 40, 71)\n",
    "deathsKeep = (252, 78, 40)\n",
    "\n",
    "def dist(a,b):\n",
    "    v = 0\n",
    "    for (i,j) in zip(a,b):\n",
    "        v += abs(i-j)\n",
    "    return v    \n",
    "\n",
    "for imageFileName in imageFileNames: \n",
    "    image = Image.open(imageFileName)\n",
    "    imageData = image.load()\n",
    "    height,width = image.size\n",
    "    \n",
    "    pixelTypes = {} \n",
    "    for i in range(height):\n",
    "        for j in range(width):\n",
    "            r,g,b,a = imageData[i,j]\n",
    "            \n",
    "            if r==g and g==b:\n",
    "                continue\n",
    "            \n",
    "            if not (r,g,b,a) in pixelTypes:\n",
    "                pixelTypes[(r,g,b,a)] = 0\n",
    "            pixelTypes[(r,g,b,a)] += 1\n",
    "            \n",
    "            if imageFileName == \"admiss.png\" and dist((r,g,b,a), admissDiscard) < dist((r,g,b), admissKeep):\n",
    "                imageData[i,j] = (255,255,255,255)\n",
    "\n",
    "            if imageFileName == \"deaths.png\" and dist((r,g,b,a), deathsDiscard) < dist((r,g,b), deathsKeep):\n",
    "                imageData[i,j] = (255,255,255,255)     \n",
    "    \n",
    "    image.save(\"cleaned_\" + imageFileName)        \n",
    "    #print(sorted(pixelTypes.items(), key=lambda x: x[1], reverse=True))\n",
    "    \n",
    "    \n",
    "    imageDataNP = np.asarray(image) \n",
    "    oLoc = \n",
    "    for i in range(9):\n",
    "        yStart = int(i*400)\n",
    "        iData = imageDataNP[yStart:yStart+400,:]\n",
    "        print(iData.shape)\n",
    "        im = Image.fromarray(iData)\n",
    "        fileName = str(i)+imageFileName\n",
    "        im.save(fileName)\n",
    "        \n",
    "            \n",
    "                \n"
   ]
  },
  {
   "cell_type": "code",
   "execution_count": null,
   "metadata": {},
   "outputs": [],
   "source": []
  }
 ],
 "metadata": {
  "kernelspec": {
   "display_name": "Python 3",
   "language": "python",
   "name": "python3"
  },
  "language_info": {
   "codemirror_mode": {
    "name": "ipython",
    "version": 3
   },
   "file_extension": ".py",
   "mimetype": "text/x-python",
   "name": "python",
   "nbconvert_exporter": "python",
   "pygments_lexer": "ipython3",
   "version": "3.6.8"
  }
 },
 "nbformat": 4,
 "nbformat_minor": 2
}
